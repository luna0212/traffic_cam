{
 "cells": [
  {
   "cell_type": "code",
   "execution_count": 4,
   "metadata": {},
   "outputs": [],
   "source": [
    "import numpy as np\n",
    "import random"
   ]
  },
  {
   "cell_type": "code",
   "execution_count": 18,
   "metadata": {},
   "outputs": [],
   "source": [
    "data = {'images':[\n",
    "    {\n",
    "        \"path\":\"aaa\",\n",
    "        \"annotations\":[\n",
    "            {\n",
    "                \"tags\":\"person_on_phone\"\n",
    "            }\n",
    "            \n",
    "            \n",
    "        ]\n",
    "    },\n",
    "    {\n",
    "        \"path\":\"bbb\",\n",
    "        \"annotations\":[\n",
    "            {\n",
    "                \"tags\":[\"coffee\",\"person_on_phone\"]\n",
    "            }\n",
    "            \n",
    "            \n",
    "        ]\n",
    "    },\n",
    "        {\n",
    "        \"path\":\"ccc\",\n",
    "        \"annotations\":[\n",
    "            {\n",
    "                \"tags\":[\"coffee\",]\n",
    "            }\n",
    "            \n",
    "            \n",
    "        ]\n",
    "    },\n",
    "        {\n",
    "        \"path\":\"ddd\",\n",
    "        \"annotations\":[\n",
    "            {\n",
    "                \"tags\":[\"sedan\",\"person_on_phone\"]\n",
    "            }\n",
    "            \n",
    "            \n",
    "        ]\n",
    "    },\n",
    "        {\n",
    "        \"path\":\"eee\",\n",
    "        \"annotations\":[\n",
    "            {\n",
    "                \"tags\":[\"sedan\"]\n",
    "            }\n",
    "            \n",
    "            \n",
    "        ]\n",
    "    },\n",
    "        {\n",
    "        \"path\":\"fff\",\n",
    "        \"annotations\":[\n",
    "            {\n",
    "                \"tags\":[\"person_on_phone\"]\n",
    "            }\n",
    "            \n",
    "            \n",
    "        ]\n",
    "    },\n",
    "]}"
   ]
  },
  {
   "cell_type": "code",
   "execution_count": 21,
   "metadata": {},
   "outputs": [],
   "source": [
    "dict_sample = {}\n",
    "for k in data['images']:\n",
    "    name = k['path']\n",
    "    tag = k['annotations'][0]['tags'] #make sure to change to 2\n",
    "    if type(tag) != list:\n",
    "        tag = [tag]\n",
    "    dict_sample.update({name : tag})"
   ]
  },
  {
   "cell_type": "code",
   "execution_count": 22,
   "metadata": {},
   "outputs": [
    {
     "data": {
      "text/plain": [
       "{'aaa': ['person_on_phone'],\n",
       " 'bbb': ['coffee', 'person_on_phone'],\n",
       " 'ccc': ['coffee'],\n",
       " 'ddd': ['sedan', 'person_on_phone'],\n",
       " 'eee': ['sedan'],\n",
       " 'fff': ['person_on_phone']}"
      ]
     },
     "execution_count": 22,
     "metadata": {},
     "output_type": "execute_result"
    }
   ],
   "source": [
    "dict_sample"
   ]
  },
  {
   "cell_type": "code",
   "execution_count": 23,
   "metadata": {},
   "outputs": [],
   "source": [
    "Data = dict_sample\n",
    "\n",
    "percentages = {\n",
    "    'sedan':50,\n",
    "    'person_on_phone':50,\n",
    "    'coffee':0\n",
    "}"
   ]
  },
  {
   "cell_type": "code",
   "execution_count": 24,
   "metadata": {},
   "outputs": [],
   "source": [
    "def invert(Data):\n",
    "    inv = {}\n",
    "    \n",
    "    for key in Data:\n",
    "        for label in Data[key]:\n",
    "            if label in inv:\n",
    "                inv[label].append(key)\n",
    "            else:\n",
    "                inv[label] = [key]\n",
    "    return inv\n",
    "\n",
    "\n",
    "def sample(Data,N,percentages):\n",
    "    # N is an integer\n",
    "    # percentages is a list length corresponding to the number of labels\n",
    "    inv = invert(Data)\n",
    "    sample = {}\n",
    "    sample_sizes = {}\n",
    "\n",
    "    for label in percentages:\n",
    "        sample_sizes[label] = round(float(percentages[label]*N)/100)\n",
    "    print(sample_sizes)\n",
    "    \n",
    "    for label in sample_sizes:\n",
    "        print('sampling {} point/s from the {} data points with label: {}.'.format(sample_sizes[label],len(inv[label]),label))\n",
    "        \n",
    "        sample_index = random.sample(range(1,len(inv[label])),sample_sizes[label])\n",
    "        sample[label] = [inv[label][i] for i in sample_index]\n",
    "    return sample"
   ]
  },
  {
   "cell_type": "code",
   "execution_count": 25,
   "metadata": {},
   "outputs": [
    {
     "name": "stdout",
     "output_type": "stream",
     "text": [
      "{'sedan': 1, 'person_on_phone': 1, 'coffee': 0}\n",
      "sampling 1 point/s from the 2 data points with label: sedan.\n",
      "sampling 1 point/s from the 4 data points with label: person_on_phone.\n",
      "sampling 0 point/s from the 2 data points with label: coffee.\n"
     ]
    },
    {
     "data": {
      "text/plain": [
       "{'sedan': ['eee'], 'person_on_phone': ['ddd'], 'coffee': []}"
      ]
     },
     "execution_count": 25,
     "metadata": {},
     "output_type": "execute_result"
    }
   ],
   "source": [
    "sample(Data,2,percentages)"
   ]
  },
  {
   "cell_type": "code",
   "execution_count": null,
   "metadata": {},
   "outputs": [],
   "source": []
  }
 ],
 "metadata": {
  "kernelspec": {
   "display_name": "Python 3",
   "language": "python",
   "name": "python3"
  },
  "language_info": {
   "codemirror_mode": {
    "name": "ipython",
    "version": 3
   },
   "file_extension": ".py",
   "mimetype": "text/x-python",
   "name": "python",
   "nbconvert_exporter": "python",
   "pygments_lexer": "ipython3",
   "version": "3.7.4"
  },
  "widgets": {
   "application/vnd.jupyter.widget-state+json": {
    "state": {},
    "version_major": 2,
    "version_minor": 0
   }
  }
 },
 "nbformat": 4,
 "nbformat_minor": 4
}
