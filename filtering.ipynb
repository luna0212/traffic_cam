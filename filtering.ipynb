{
 "cells": [
  {
   "cell_type": "code",
   "execution_count": null,
   "metadata": {},
   "outputs": [],
   "source": [
    "import json\n",
    "\n",
    "full_path = path #path to dataset.json\n",
    "with open(full_path) as f:\n",
    "    data = json.load(f)\n",
    "\n",
    "n = 0\n",
    "for k in data['images']:\n",
    "    name = k['path']\n",
    "    annotations = k['annotations']\n",
    "    with open(\"json_ %s.json\" % name,'w') as fp:\n",
    "        dict_sep = {}\n",
    "        dict_sep.update({name : annotations})\n",
    "        json.dump(dict_sep, fp)"
   ]
  }
 ],
 "metadata": {
  "kernelspec": {
   "display_name": "Python 3",
   "language": "python",
   "name": "python3"
  },
  "language_info": {
   "codemirror_mode": {
    "name": "ipython",
    "version": 3
   },
   "file_extension": ".py",
   "mimetype": "text/x-python",
   "name": "python",
   "nbconvert_exporter": "python",
   "pygments_lexer": "ipython3",
   "version": "3.7.4"
  }
 },
 "nbformat": 4,
 "nbformat_minor": 2
}
